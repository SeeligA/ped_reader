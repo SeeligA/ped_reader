{
 "cells": [
  {
   "cell_type": "markdown",
   "metadata": {},
   "source": [
    "# PED Writer Notebook\n",
    "In this notebook, we use our insights about error patterns in post-edited data to further improve MT output. Check out the [PED Reader notebook](https://github.com/SeeligA/ped_reader/blob/master/ped_reader_nb.ipynb \"PED Reader Notebook\") to see how we arrived at this point. Since most translation jobs are based on or are at least comptible with the XLIFF exchange format, we will apply our rules to these files.\n",
    "\n",
    "**Prerequisites:**\n",
    "* Previous knowledge of *Python* is not strictly required, but certainly helpful.\n",
    "* If you know your way around the *commandline* and different flavours of *Regular Expressions* you should be fine.\n",
    "\n",
    "\n",
    "## 1. Notes on XLIFF files\n",
    "If you are reading this, you are probably a localization engineer trained in the usage of *XML* and *XLIFF*. If you haven't worked with the XLIFF files before, here are some important things to know:\n",
    "* It is an XML-based standard developed by the OASIS group. The last version is 2.0, but for our purpose [1.2](http://docs.oasis-open.org/xliff/v1.2/os/xliff-core.html \"XLIFF 1.2 Specification\")  will do.\n",
    "* The header stores information about the source document(s) as well as definitions for formatting and non-translatable tokens. Some implementations also included the embedded source document to support live previews.\n",
    "* The body stores so-called **translation units** (TUs) which are sentence-length or paragraph-length tokens of the original text. TUs are usually bilingual parent elements, containing a source and a target child (called segments) as well as definitions with various useful metadata about the segments themselves.\n",
    "* Last but not least, segments often contain **inline elements** to represent formatting or non-translatables. These elements can be a bit tricky for MT, because their position often depends on linguistic context.\n",
    "\n",
    "In order to extract, process and write XML data, we import a few new functions in addition to the Entry and Substitution  modules introduced earlier. "
   ]
  },
  {
   "cell_type": "code",
   "execution_count": 1,
   "metadata": {},
   "outputs": [],
   "source": [
    "# The following five lines are for the creator of this notebook. Please ignore.\n",
    "#%load_ext autoreload\n",
    "#%autoreload 2\n",
    "#import logging\n",
    "#logger = logging.getLogger()\n",
    "#logger.setLevel(logging.INFO)\n",
    "\n",
    "from source.xliff import create_tree, print_sample_from_file, print_sample\n",
    "from source.subs import PreprocSub\n",
    "from source.entries import SearchMTEntry, SearchSourceEntry, ToggleCaseEntry, ApplyTagEntry\n",
    "from source.utils import unzip_sample, retrieve_file_paths\n",
    "\n",
    "from ipywidgets import interactive\n",
    "import ipywidgets as widgets"
   ]
  },
  {
   "cell_type": "markdown",
   "metadata": {},
   "source": [
    "## 2. Reading and pretty printing\n",
    "Next, let's see what kind of data we are dealing with. Running the next cell will unzip and read the sample file in the `data` folder and the print out a preview of a single translation unit. Use the slider to browse through the file.\n",
    "To include your own XLIFF file, uncomment the fourth line `fps.append(input('Path to input file: '))` and when prompted enter path to your file.\n",
    "```\n",
    "tree, tus = create_tree(fp)\n",
    "```\n",
    "Note that the line above will create two new objects to help us parsing string data:\n",
    "- a Tree object representing and indexing all elements in the XML file.\n",
    "- a list of translation unit nodes from that Tree, on which we will iterate over during processing"
   ]
  },
  {
   "cell_type": "code",
   "execution_count": 2,
   "metadata": {},
   "outputs": [
    {
     "name": "stdout",
     "output_type": "stream",
     "text": [
      "Sample extracted here: data\n",
      "Backup containing 2 files created here: data\n"
     ]
    },
    {
     "data": {
      "application/vnd.jupyter.widget-view+json": {
       "model_id": "4c38da78dfe14875a2b261b37593403a",
       "version_major": 2,
       "version_minor": 0
      },
      "text/plain": [
       "interactive(children=(Dropdown(description='file', options=('data\\\\S0123_en.docx.sdlxliff', 'data\\\\Wochenkarte…"
      ]
     },
     "metadata": {},
     "output_type": "display_data"
    }
   ],
   "source": [
    "dir_name = \"data\"\n",
    "unzip_sample(dir_name)\n",
    "fps = retrieve_file_paths(dir_name)\n",
    "\n",
    "# Uncomment the following line to enable the input file prompt\n",
    "#fps.append(input('Path to input file: '))\n",
    "\n",
    "def sample_widget(file):\n",
    "    # Create a tree object and a list of translation units    \n",
    "\n",
    "    tree, tus = create_tree(file)    \n",
    "    \n",
    "    def print_sample_widget(tu_id):\n",
    "        print_sample(tus, tu_id)\n",
    "        \n",
    "    v = interactive(print_sample_widget, tus=tus, tu_id=widgets.IntSlider(min=0, max=len(tus)-1, step=1, value=0, continuous_update=False))\n",
    "    display(v)\n",
    "    \n",
    "w = interactive(sample_widget, file=fps)\n",
    "display(w)"
   ]
  },
  {
   "cell_type": "markdown",
   "metadata": {},
   "source": [
    "## 3. Modifying string data and inserting elements\n",
    "As you can see above, our string data is embedded in a hierarchical structure of elements. Instead of searching and replacing strings directly from a table, we will need to parse text from the `<seg-source>MyString</seg-source>` and `<target>MeinString</target>` elements first. There is an upside, too: it gives us flexibility to modify the string environment and how text is displayed in our CAT editor and the target document.\n",
    "\n",
    "To illustrate this, I am introducing a new Entry object, which looks up inline formatting tags or placeholders in the source and applies the same formatting to the corresponding match in the target. This new entry **only works with XLIFF files, it does not work with the table data** from the previous notebook. This is because the table data does not include tags, formatting or otherwise.\n",
    "\n",
    "Back to our sample file, it appears that some formatting tags are missing in the target. Let's fix this by wrapping some customs rules in a substitution object and applying it to the samples files in our directory…"
   ]
  },
  {
   "cell_type": "code",
   "execution_count": 8,
   "metadata": {},
   "outputs": [
    {
     "data": {
      "application/vnd.jupyter.widget-view+json": {
       "model_id": "4c38da78dfe14875a2b261b37593403a",
       "version_major": 2,
       "version_minor": 0
      },
      "text/plain": [
       "interactive(children=(Dropdown(description='file', options=('data\\\\S0123_en.docx.sdlxliff', 'data\\\\Wochenkarte…"
      ]
     },
     "metadata": {},
     "output_type": "display_data"
    }
   ],
   "source": [
    "x = ApplyTagEntry({\"ID\": 999, \"s_lid\": \"All\", \"t_lid\": \"All\", 'desc': \"Format: color green 'percentage\", \n",
    "                   \"search\":\"(?<=[^>])\\d+\\%(?=([^<]|$))\", \"replace\": None,\n",
    "                   \"source_filter\": '(<(\\w+) [^>]+?>\\d+%</\\w+>)'\n",
    "                  })\n",
    "y = ApplyTagEntry({\"ID\": 997, \"s_lid\": \"EN\", \"t_lid\": \"ES\", 'desc': \"Format: italics 'and'\", \n",
    "                  \"search\": \"(?<=[^>])\\by\\b(?=([^<]|$))\", \"replace\":\"y\", \n",
    "                  \"source_filter\":'(<(\\w+) [^>]+?>and</\\w+>)'\n",
    "                  })\n",
    "\n",
    "z = ApplyTagEntry({\"ID\": 998, \"s_lid\": \"All\", \"t_lid\": \"All\", 'desc': \"Format: color red 'nums'\", \n",
    "                  \"search\": \"(?<=[^>])\\d+(?=([^<]|$))\", \"replace\": None, \n",
    "                  \"source_filter\": '(<(\\w+) [^>]+?>\\d+?</\\w+>)'\n",
    "                  })\n",
    "\n",
    "subs_list = [z, y, x]\n",
    "subs = PreprocSub(created_by=\"ASE\", desc=\"Testing\", entries=subs_list)\n",
    "\n",
    "cache = subs.apply_to_working_files(fps)\n",
    "display(w)"
   ]
  },
  {
   "cell_type": "markdown",
   "metadata": {},
   "source": [
    "## 4. Next Steps\n",
    "Once you have found your rules to be working as expected, you can add them to any existing substitution items you might have on file."
   ]
  },
  {
   "cell_type": "code",
   "execution_count": 9,
   "metadata": {},
   "outputs": [
    {
     "name": "stdout",
     "output_type": "stream",
     "text": [
      "{\n",
      "    \"__class__\": \"PreprocSub\",\n",
      "    \"__module__\": \"source.subs\",\n",
      "    \"version\": 0.1,\n",
      "    \"created_by\": \"ASE\",\n",
      "    \"desc\": \"For WMT 16 testset (EN-ES)\",\n",
      "    \"ped_effect\": 0.0010021806317097592,\n",
      "    \"entries\": [\n",
      "        {\n",
      "            \"__class__\": \"SearchSourceEntry\",\n",
      "            \"__module__\": \"source.entries\",\n",
      "            \"ID\": 0,\n",
      "            \"search\": \"ANTECEDENTES(?= Y OBJETIVOS)\",\n",
      "            \"replace\": \"JUSTIFICATIVA\",\n",
      "            \"created_by\": null,\n",
      "            \"ped_effect\": 0.0009035115795690829,\n",
      "            \"desc\": \"Term: BACKGROUND: JUSTIFICATIVA\",\n",
      "            \"t_lid\": \"ES\",\n",
      "            \"s_lid\": \"EN\",\n",
      "            \"source_filter\": \"^BACKGROUND AND OBJECTIVES:\"\n",
      "        },\n",
      "        {\n",
      "            \"__class__\": \"SearchSourceEntry\",\n",
      "            \"__module__\": \"source.entries\",\n",
      "            \"ID\": 1,\n",
      "            \"search\": \"ÍNDICE:\",\n",
      "            \"replace\": \"CONTENIDO:\",\n",
      "            \"created_by\": null,\n",
      "            \"ped_effect\": 7.659633047024661e-05,\n",
      "            \"desc\": \"Term: CONTENTS: CONTENIDO\",\n",
      "            \"t_lid\": \"ES\",\n",
      "            \"s_lid\": \"EN\",\n",
      "            \"source_filter\": \"^CONTENTS:\"\n",
      "        },\n",
      "        {\n",
      "            \"__class__\": \"SearchSourceEntry\",\n",
      "            \"__module__\": \"source.entries\",\n",
      "            \"ID\": 2,\n",
      "            \"search\": \"tempran[ao]s?(mente)?\",\n",
      "            \"replace\": \"precoz\",\n",
      "            \"created_by\": null,\n",
      "            \"ped_effect\": 1.2794488705503149e-05,\n",
      "            \"desc\": \"Term: early: precoz\",\n",
      "            \"t_lid\": \"ES\",\n",
      "            \"s_lid\": \"EN\",\n",
      "            \"source_filter\": \"\\\\bearly\\\\b\"\n",
      "        },\n",
      "        {\n",
      "            \"__class__\": \"SearchMTEntry\",\n",
      "            \"__module__\": \"source.entries\",\n",
      "            \"ID\": 3,\n",
      "            \"search\": \"\\\\b(2LTR|T)-HIV\\\\b\",\n",
      "            \"replace\": \"HIV-\\\\1\",\n",
      "            \"created_by\": null,\n",
      "            \"ped_effect\": 8.756435980472599e-06,\n",
      "            \"desc\": \"Loc: decimal separator\",\n",
      "            \"t_lid\": \"ES\",\n",
      "            \"s_lid\": \"All\",\n",
      "            \"source_filter\": null\n",
      "        },\n",
      "        {\n",
      "            \"__class__\": \"SearchSourceEntry\",\n",
      "            \"__module__\": \"source.entries\",\n",
      "            \"ID\": 4,\n",
      "            \"search\": \"\\\\b[Tt]emporada de reproducción\\\\b\",\n",
      "            \"replace\": \"estación reproductiva\",\n",
      "            \"created_by\": null,\n",
      "            \"ped_effect\": 4.767459455545797e-06,\n",
      "            \"desc\": \"Term: Breeding season: estación reproductiva\",\n",
      "            \"t_lid\": \"ES\",\n",
      "            \"s_lid\": \"EN\",\n",
      "            \"source_filter\": \"\\\\bbreeding season\"\n",
      "        },\n",
      "        {\n",
      "            \"__class__\": \"SearchMTEntry\",\n",
      "            \"__module__\": \"source.entries\",\n",
      "            \"ID\": 5,\n",
      "            \"search\": \"[Hh]eterocigosidad\\\\b\",\n",
      "            \"replace\": \"heterocigosis\",\n",
      "            \"created_by\": null,\n",
      "            \"ped_effect\": 1.9390635950244928e-06,\n",
      "            \"desc\": \"Term: heterocigosidad -> heterocigosis\",\n",
      "            \"t_lid\": \"ES\",\n",
      "            \"s_lid\": \"All\",\n",
      "            \"source_filter\": null\n",
      "        },\n",
      "        {\n",
      "            \"__class__\": \"ToggleCaseEntry\",\n",
      "            \"__module__\": \"source.entries\",\n",
      "            \"ID\": 6,\n",
      "            \"search\": 1,\n",
      "            \"replace\": \"upper\",\n",
      "            \"created_by\": null,\n",
      "            \"ped_effect\": -5.551115123125783e-17,\n",
      "            \"desc\": \"Capitalize first character if this is reflected in the source\",\n",
      "            \"t_lid\": \"ES\",\n",
      "            \"s_lid\": \"All\",\n",
      "            \"source_filter\": null\n",
      "        },\n",
      "        {\n",
      "            \"__class__\": \"ApplyTagEntry\",\n",
      "            \"__module__\": \"source.entries\",\n",
      "            \"ID\": 998,\n",
      "            \"search\": \"(?<=[^>])\\\\d+(?=([^<]|$))\",\n",
      "            \"replace\": null,\n",
      "            \"created_by\": null,\n",
      "            \"ped_effect\": null,\n",
      "            \"desc\": \"Format: color red 'nums'\",\n",
      "            \"t_lid\": \"All\",\n",
      "            \"s_lid\": \"All\",\n",
      "            \"source_filter\": \"(<(\\\\w+) [^>]+?>\\\\d+?</\\\\w+>)\"\n",
      "        },\n",
      "        {\n",
      "            \"__class__\": \"ApplyTagEntry\",\n",
      "            \"__module__\": \"source.entries\",\n",
      "            \"ID\": 997,\n",
      "            \"search\": \"(?<=[^>])\\by\\b(?=([^<]|$))\",\n",
      "            \"replace\": \"y\",\n",
      "            \"created_by\": null,\n",
      "            \"ped_effect\": null,\n",
      "            \"desc\": \"Format: italics 'and'\",\n",
      "            \"t_lid\": \"ES\",\n",
      "            \"s_lid\": \"EN\",\n",
      "            \"source_filter\": \"(<(\\\\w+) [^>]+?>and</\\\\w+>)\"\n",
      "        },\n",
      "        {\n",
      "            \"__class__\": \"ApplyTagEntry\",\n",
      "            \"__module__\": \"source.entries\",\n",
      "            \"ID\": 999,\n",
      "            \"search\": \"(?<=[^>])\\\\d+\\\\%(?=([^<]|$))\",\n",
      "            \"replace\": null,\n",
      "            \"created_by\": null,\n",
      "            \"ped_effect\": null,\n",
      "            \"desc\": \"Format: color green 'percentage\",\n",
      "            \"t_lid\": \"All\",\n",
      "            \"s_lid\": \"All\",\n",
      "            \"source_filter\": \"(<(\\\\w+) [^>]+?>\\\\d+%</\\\\w+>)\"\n",
      "        }\n",
      "    ]\n",
      "}\n"
     ]
    }
   ],
   "source": [
    "import os\n",
    "import json \n",
    "fp = os.path.join(\"out\", \"wmt16_en-es.json\")\n",
    "new_subs = PreprocSub(fp=fp)\n",
    "\n",
    "for i in subs_list:\n",
    "    new_subs.entries.append(i)\n",
    "print(json.dumps(new_subs.convert_to_json(), indent=4, ensure_ascii=False))\n",
    "#new_sub.apply_to_working_files(fps)\n",
    "#new_subs.convert_to_json(fp)"
   ]
  },
  {
   "cell_type": "markdown",
   "metadata": {},
   "source": [
    "## 5.  Conclusion\n",
    "In this notebook we have explored options to navigate through XLIFF files using interactive controls. We have  introduced a new substition entry to pull tags in the target segment. We then applied our entries to a number of pre-translated files to further improve the output. \n",
    "\n",
    "This concludes this notebook. If you found any of this content helpful or confusing, please let me know. [mailto](mailto:arnseelig[at]gmail.com)"
   ]
  },
  {
   "cell_type": "code",
   "execution_count": null,
   "metadata": {},
   "outputs": [],
   "source": []
  }
 ],
 "metadata": {
  "kernelspec": {
   "display_name": "Python 3",
   "language": "python",
   "name": "python3"
  },
  "language_info": {
   "codemirror_mode": {
    "name": "ipython",
    "version": 3
   },
   "file_extension": ".py",
   "mimetype": "text/x-python",
   "name": "python",
   "nbconvert_exporter": "python",
   "pygments_lexer": "ipython3",
   "version": "3.7.4"
  }
 },
 "nbformat": 4,
 "nbformat_minor": 2
}
