{
 "cells": [
  {
   "cell_type": "markdown",
   "metadata": {},
   "source": [
    "# PED Writer Notebook\n",
    "In this notebook, we use our insights about error patterns in post-edited data to further improve MT output. Check out the [PED Reader notebook](https://github.com/SeeligA/ped_reader/blob/master/ped_reader_nb.ipynb \"PED Reader Notebook\") to see how we derived these insights. Since most translation jobs are based on or are at least comptible with the XLIFF exchange format, we will apply our rules to these files.\n",
    "\n",
    "**Prerequisites:**\n",
    "* Previous knowledge of *Python* is not strictly required, but certainly helpful.\n",
    "* If you know your way around the *commandline* and different flavours of *Regular Expressions* you should be fine.\n",
    "\n",
    "\n",
    "## Notes on XLIFF files\n",
    "If you are reading this, you are probably a localization engineer and better trained in the use of *XML* and *XLIFF* than I am. If you haven't worked with the XLIFF files before, here are some important things to know:\n",
    "* It is an XML-based standard developed by the OASIS group. The last version is 2.0, but for our purpose [1.2](http://docs.oasis-open.org/xliff/v1.2/os/xliff-core.html \"XLIFF 1.2 Specification\")  will do.\n",
    "* The header stores information about the source document(s) as well as definitions for formatting and non-translatable tokens. Some implementations also included the embedded source document to support live previews.\n",
    "* The body stores so-called **translation units** (TUs) which are sentence-length or paragraph-length tokens of the original text. TUs are usually bilingual, containing a source and a target element (called segments) as well as definitions with various useful metadata about the segments themselves.\n",
    "* Last but not least, segments often contain **inline elements** to represent formatting or non-translatables. These elements can be a bit tricky for MT, because their position often depends on linguistic context.\n",
    "\n",
    "In order to extract, process and write XML data, we import a few new functions in addition to Entry and Substitution  modules introduced earlier. "
   ]
  },
  {
   "cell_type": "code",
   "execution_count": 294,
   "metadata": {},
   "outputs": [
    {
     "name": "stdout",
     "output_type": "stream",
     "text": [
      "The autoreload extension is already loaded. To reload it, use:\n",
      "  %reload_ext autoreload\n"
     ]
    }
   ],
   "source": [
    "# The following five lines are for the creator of this notebook. Please ignore.\n",
    "#%load_ext autoreload\n",
    "#%autoreload 2\n",
    "#import logging\n",
    "#logger = logging.getLogger()\n",
    "#logger.setLevel(logging.INFO)\n",
    "\n",
    "import os\n",
    "from lxml import etree as ET\n",
    "\n",
    "from source.xliff import create_tree, print_sample_from_file, print_sample\n",
    "from source.subs import PreprocSub\n",
    "from source.entries import SearchMTEntry, SearchSourceEntry, ToggleCaseEntry, ApplyTagEntry\n",
    "from source.utils import unzip_sample"
   ]
  },
  {
   "cell_type": "markdown",
   "metadata": {},
   "source": [
    "## Reading and pretty printing\n",
    "Next, let's see what kind of data we are dealing with. Running the next cell will read the sample file and print out a preview of a single translation unit.\n",
    "```\n",
    "tree, tus = create_tree(fp)\n",
    "```\n",
    "Note that the line above will create two new objects to help us parsing string data:\n",
    "- a Tree object representing and indexing all elements in the XML file.\n",
    "- a list of translation unit nodes from that Tree, on which we will iterate over during processing"
   ]
  },
  {
   "cell_type": "code",
   "execution_count": 296,
   "metadata": {},
   "outputs": [
    {
     "name": "stdout",
     "output_type": "stream",
     "text": [
      "Sample extracted here: in\n",
      "('<trans-unit xmlns=\"urn:oasis:names:tc:xliff:document:1.2\" xmlns:sdl=\"http://sdl.com/FileTypes/SdlXliff/1.0\" '\n",
      " 'id=\"f049fffc-3cb2-4869-ba10-f76b02e3593c\">\\n'\n",
      " '  <source>The collection represents <g id=\"227\">100%</g> of the families <g id=\"233\">and</g> subfamilies, <g '\n",
      " 'id=\"239\">and</g> <g id=\"245\">55%</g> of the genera reported for Colombia.</source>\\n'\n",
      " '  <seg-source>\\n'\n",
      " '    <mrk mtype=\"seg\" mid=\"8\">The collection represents <g id=\"227\">100%</g> of the families <g id=\"233\">and</g> '\n",
      " 'subfamilies, <g id=\"239\">and</g> <g id=\"245\">55%</g> of the genera reported for Colombia.</mrk>\\n'\n",
      " '  </seg-source>\\n'\n",
      " '  <target>\\n'\n",
      " '    <mrk mtype=\"seg\" mid=\"8\">Esta colección representa el 100% de las familias y subfamilias, y el 55% de los '\n",
      " 'géneros registrados para Colombia.</mrk>\\n'\n",
      " '  </target>\\n'\n",
      " '  <sdl:seg-defs>\\n'\n",
      " '    <sdl:seg id=\"8\" conf=\"Draft\" origin=\"mt\" origin-system=\"Alignment11\">\\n'\n",
      " '      <sdl:value key=\"SDL:OriginalTranslationHash\"/>\\n'\n",
      " '      <sdl:value key=\"SDL:ProjectTranslationHash\"/>\\n'\n",
      " '    </sdl:seg>\\n'\n",
      " '  </sdl:seg-defs>\\n'\n",
      " '</trans-unit>\\n')\n"
     ]
    }
   ],
   "source": [
    "dir_name = \"in\"\n",
    "fps = unzip_sample(dir_name)\n",
    "\n",
    "# Create a tree object and a list of translation units\n",
    "tree, tus = create_tree(fps[0])\n",
    "# Change this value to print a different translation unit\n",
    "tu_id = 7\n",
    "print_sample(tus, tu_id)"
   ]
  },
  {
   "cell_type": "markdown",
   "metadata": {},
   "source": [
    "## Modifying string data and inserting elements\n",
    "As you can see above, our string data is embedded in a hierarchical structure of elements. Instead of searching and replacing strings directly from a table, we will need to parse text from the `<seg-source>MyString</seg-source>` and `<target>MeinString</target>` elements first. There is an upside, too: it gives us flexibility to modify the string environment and how text is displayed in our CAT editor and the target document.\n",
    "\n",
    "To illustrate this, I am introducing a new Entry object, which looks up inline formatting tags or placeholders in the source and applies the same formatting to the corresponding match in the target. This new entry **only works with XLIFF files, it does not work with the table data** from the previous notebook. This is because the table data does not include tags, formatting or otherwise.\n",
    "\n",
    "Back to our sample file, it appears that some formatting tags are missing in the target. Let's fix this by wrapping some customs rules in a substitution object and applying it to the samples files in our directory…"
   ]
  },
  {
   "cell_type": "code",
   "execution_count": 297,
   "metadata": {},
   "outputs": [
    {
     "name": "stdout",
     "output_type": "stream",
     "text": [
      "Backup containing 1 files created here: in\n",
      "('<trans-unit xmlns=\"urn:oasis:names:tc:xliff:document:1.2\" xmlns:sdl=\"http://sdl.com/FileTypes/SdlXliff/1.0\" '\n",
      " 'id=\"f049fffc-3cb2-4869-ba10-f76b02e3593c\">\\n'\n",
      " '  <source>The collection represents <g id=\"227\">100%</g> of the families <g id=\"233\">and</g> subfamilies, <g '\n",
      " 'id=\"239\">and</g> <g id=\"245\">55%</g> of the genera reported for Colombia.</source>\\n'\n",
      " '  <seg-source>\\n'\n",
      " '    <mrk mtype=\"seg\" mid=\"8\">The collection represents <g id=\"227\">100%</g> of the families <g id=\"233\">and</g> '\n",
      " 'subfamilies, <g id=\"239\">and</g> <g id=\"245\">55%</g> of the genera reported for Colombia.</mrk>\\n'\n",
      " '  </seg-source>\\n'\n",
      " '  <target>\\n'\n",
      " '    <mrk mtype=\"seg\" mid=\"8\">Esta colección representa el <g id=\"227\">100%</g> de las familias <g id=\"233\">y</g> '\n",
      " 'subfamilias, <g id=\"239\">y</g> el <g id=\"245\">55%</g> de los géneros registrados para Colombia.</mrk>\\n'\n",
      " '  </target>\\n'\n",
      " '  <sdl:seg-defs>\\n'\n",
      " '    <sdl:seg id=\"8\" conf=\"Draft\" origin=\"mt\" origin-system=\"Alignment11\">\\n'\n",
      " '      <sdl:value key=\"SDL:OriginalTranslationHash\"/>\\n'\n",
      " '      <sdl:value key=\"SDL:ProjectTranslationHash\"/>\\n'\n",
      " '    </sdl:seg>\\n'\n",
      " '  </sdl:seg-defs>\\n'\n",
      " '</trans-unit>\\n')\n"
     ]
    }
   ],
   "source": [
    "x = ApplyTagEntry(997, \"ASE\", None, \"Format: color green 'percentage\", \"All\", \"All\", \"(?<=[^>])\\d+\\%(?=([^<]|$))\", None, '(<(\\w+) [^>]+?>\\d+%</\\w+>)')\n",
    "y = ApplyTagEntry(998, \"ASE\", None, \"Format: italics 'and'\", \"EN\", \"ES\", \"(?<=[^>])\\by\\b(?=([^<]|$))\", \"y\", '(<(\\w+) [^>]+?>and</\\w+>)')\n",
    "z = ApplyTagEntry(999, \"ASE\", None, \"Format: color red 'nums'\", \"All\", \"All\", \"(?<=[^>])\\d+(?=([^<]|$))\", None, '(<(\\w+) [^>]+?>\\d+?</\\w+>)')\n",
    "\n",
    "subs_list = [z, y, x]\n",
    "subs = PreprocSub(created_by=\"ASE\", desc=\"Testing\", entries=subs_list)\n",
    "\n",
    "# Note the binary flag to control whether the sample file gets overwritten or not\n",
    "cache = subs.apply_to_working_files(dir_name, write=False)\n",
    "print_sample(cache[fps[0]], tu_id)"
   ]
  },
  {
   "cell_type": "markdown",
   "metadata": {},
   "source": [
    "## Next Steps\n",
    "Once you have determined that all your rules work as expected, you can add them to any existing substitution items you might have on file."
   ]
  },
  {
   "cell_type": "code",
   "execution_count": 305,
   "metadata": {},
   "outputs": [
    {
     "data": {
      "text/plain": [
       "{'__class__': 'PreprocSub',\n",
       " '__module__': 'source.subs',\n",
       " 'version': 0.1,\n",
       " 'created_by': 'ASE',\n",
       " 'desc': 'For WMT 16 testset (EN-ES)',\n",
       " 'ped_effect': -3.0750116881750333e-05,\n",
       " 'entries': [{'__class__': 'SearchSourceEntry',\n",
       "   '__module__': 'source.entries',\n",
       "   'ID': 0,\n",
       "   'created_by': 'ASE',\n",
       "   'ped_effect': 0.0,\n",
       "   'desc': 'Term: Methodology: methodología',\n",
       "   't_lid': 'EN',\n",
       "   's_lid': 'ES',\n",
       "   'search': 'Materiales y métodos:',\n",
       "   'replace': 'Metodología',\n",
       "   'condition': 'Source+MT',\n",
       "   'source': '^Methodology:'},\n",
       "  {'__class__': 'SearchSourceEntry',\n",
       "   '__module__': 'source.entries',\n",
       "   'ID': 1,\n",
       "   'created_by': 'ASE',\n",
       "   'ped_effect': 0.0,\n",
       "   'desc': 'Term: rupture: ruptura',\n",
       "   't_lid': 'EN',\n",
       "   's_lid': 'ES',\n",
       "   'search': '\\\\bperforación(?:e)?(s)?',\n",
       "   'replace': 'ruptura\\\\1',\n",
       "   'condition': 'Source+MT',\n",
       "   'source': '\\\\b[Rr]upture'},\n",
       "  {'__class__': 'SearchSourceEntry',\n",
       "   '__module__': 'source.entries',\n",
       "   'ID': 2,\n",
       "   'created_by': 'ASE',\n",
       "   'ped_effect': 0.0,\n",
       "   'desc': 'Term: defects: defectos',\n",
       "   't_lid': 'EN',\n",
       "   's_lid': 'ES',\n",
       "   'search': '\\\\bproblem(?:a)?(s)?\\\\b',\n",
       "   'replace': 'defecto\\\\1',\n",
       "   'condition': 'Source+MT',\n",
       "   'source': '\\\\bdefect'},\n",
       "  {'__class__': 'SearchSourceEntry',\n",
       "   '__module__': 'source.entries',\n",
       "   'ID': 3,\n",
       "   'created_by': 'ASE',\n",
       "   'ped_effect': 0.0,\n",
       "   'desc': 'Term: Breeding season: temporada de reproducción',\n",
       "   't_lid': 'EN',\n",
       "   's_lid': 'ES',\n",
       "   'search': '\\\\bestación reproductiva\\\\b',\n",
       "   'replace': 'temporada de reproducción',\n",
       "   'condition': 'Source+MT',\n",
       "   'source': '\\\\bbreeding season'},\n",
       "  {'__class__': 'SearchSourceEntry',\n",
       "   '__module__': 'source.entries',\n",
       "   'ID': 4,\n",
       "   'created_by': 'ASE',\n",
       "   'ped_effect': 0.0,\n",
       "   'desc': 'Term: lineage: linaje',\n",
       "   't_lid': 'EN',\n",
       "   's_lid': 'ES',\n",
       "   'search': '\\\\bencaste(s)?\\\\b',\n",
       "   'replace': 'linaje\\\\1',\n",
       "   'condition': 'Source+MT',\n",
       "   'source': '\\\\blineage'},\n",
       "  {'__class__': 'SearchMTEntry',\n",
       "   '__module__': 'source.entries',\n",
       "   'ID': 5,\n",
       "   'created_by': 'ASE',\n",
       "   'ped_effect': 0.0,\n",
       "   'desc': 'Term: heterocigosis -> heterocigosidad',\n",
       "   't_lid': 'EN',\n",
       "   's_lid': 'ES',\n",
       "   'search': '\\\\bheterocigosis\\\\b',\n",
       "   'replace': 'heterocigosidad',\n",
       "   'condition': 'MT_only',\n",
       "   'source': None},\n",
       "  {'__class__': 'ToggleCaseEntry',\n",
       "   '__module__': 'source.entries',\n",
       "   'ID': 6,\n",
       "   'created_by': 'ASE',\n",
       "   'ped_effect': -1.6653345369377348e-16,\n",
       "   'desc': 'Capitalize first character if this is reflected in the source',\n",
       "   't_lid': 'All',\n",
       "   's_lid': 'ES',\n",
       "   'search': 1,\n",
       "   'replace': 'upper',\n",
       "   'condition': 'Toggle Case',\n",
       "   'source': None},\n",
       "  {'__class__': 'ApplyTagEntry',\n",
       "   '__module__': 'source.entries',\n",
       "   'ID': 1,\n",
       "   'created_by': 'ASE',\n",
       "   'ped_effect': None,\n",
       "   'desc': \"Format: color red 'nums'\",\n",
       "   't_lid': 'All',\n",
       "   's_lid': 'All',\n",
       "   'search': '(?<=[^>])\\\\d+(?=([^<]|$))',\n",
       "   'replace': None,\n",
       "   'condition': 'Source+MT',\n",
       "   'source': '(<(\\\\w+) [^>]+?>\\\\d+?</\\\\w+>)'},\n",
       "  {'__class__': 'ApplyTagEntry',\n",
       "   '__module__': 'source.entries',\n",
       "   'ID': 1,\n",
       "   'created_by': 'ASE',\n",
       "   'ped_effect': None,\n",
       "   'desc': \"Format: italics 'and'\",\n",
       "   't_lid': 'All',\n",
       "   's_lid': 'All',\n",
       "   'search': '(?<=[^>])\\x08y\\x08(?=([^<]|$))',\n",
       "   'replace': 'y',\n",
       "   'condition': 'Source+MT',\n",
       "   'source': '(<(\\\\w+) [^>]+?>and</\\\\w+>)'},\n",
       "  {'__class__': 'ApplyTagEntry',\n",
       "   '__module__': 'source.entries',\n",
       "   'ID': 1,\n",
       "   'created_by': 'ASE',\n",
       "   'ped_effect': None,\n",
       "   'desc': \"Format: color green 'percentage\",\n",
       "   't_lid': 'All',\n",
       "   's_lid': 'All',\n",
       "   'search': '(?<=[^>])\\\\d+\\\\%(?=([^<]|$))',\n",
       "   'replace': None,\n",
       "   'condition': 'Source+MT',\n",
       "   'source': '(<(\\\\w+) [^>]+?>\\\\d+%</\\\\w+>)'}]}"
      ]
     },
     "execution_count": 305,
     "metadata": {},
     "output_type": "execute_result"
    }
   ],
   "source": [
    "fp = os.path.join(\"out\", \"wmt16_en-es.json\")\n",
    "new_subs = PreprocSub(fp=fp)\n",
    "\n",
    "for i in subs_list:\n",
    "    new_subs.entries.append(i)\n",
    "new_subs.convert_to_json()"
   ]
  },
  {
   "cell_type": "code",
   "execution_count": null,
   "metadata": {},
   "outputs": [],
   "source": []
  }
 ],
 "metadata": {
  "kernelspec": {
   "display_name": "Python 3",
   "language": "python",
   "name": "python3"
  },
  "language_info": {
   "codemirror_mode": {
    "name": "ipython",
    "version": 3
   },
   "file_extension": ".py",
   "mimetype": "text/x-python",
   "name": "python",
   "nbconvert_exporter": "python",
   "pygments_lexer": "ipython3",
   "version": "3.7.3"
  }
 },
 "nbformat": 4,
 "nbformat_minor": 2
}
