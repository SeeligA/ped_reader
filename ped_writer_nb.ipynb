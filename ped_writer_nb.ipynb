{
 "cells": [
  {
   "cell_type": "markdown",
   "metadata": {},
   "source": [
    "# PED Writer Notebook\n",
    "In this notebook, we use our insights about error patterns in post-edited data to further improve MT output. Check out the [PED Reader notebook](https://github.com/SeeligA/ped_reader/blob/master/ped_reader_nb.ipynb \"PED Reader Notebook\") to see what we how we derived these insights. Since most translation jobs are based on or are at least comptible with the XLIFF exchange format, we will apply our rules to these files.\n",
    "\n",
    "If you haven't worked with the XLIFF files before, here are some important things to know:\n",
    "* It is an XML-based standard developed by the OASIS group. The last version is 2.0, but for our purpose [1.2](http://docs.oasis-open.org/xliff/v1.2/os/xliff-core.html \"XLIFF 1.2 Specification\")  will do.\n",
    "* It has a header which stores information about the source document(s) and sometimes the source document(s) itself as well as definitions for formatting and non-translatable tokens.\n",
    "* The body stores so-called translation units (TUs) which are sentence-length or paragraph-length tokens of the original text. TUs are normally bilingual, containing a source and a target element (called segments) as well as definitions with various useful metadata about the segments themselves.\n",
    "* Last but not least, segments often contain inline elements to represent formatting or non-translatables. These elements can be a bit tricky for MT, because their position often depends on linguistic context.\n",
    "\n",
    "In order to parse XML data, we will need another library in addition to the convenience functions introduced earlier."
   ]
  },
  {
   "cell_type": "code",
   "execution_count": 6,
   "metadata": {},
   "outputs": [
    {
     "name": "stdout",
     "output_type": "stream",
     "text": [
      "The autoreload extension is already loaded. To reload it, use:\n",
      "  %reload_ext autoreload\n"
     ]
    }
   ],
   "source": [
    "# The following two lines are for the creator of this notebook. Please ignore.\n",
    "#%load_ext autoreload\n",
    "#%autoreload 2\n",
    "\n",
    "import os\n",
    "from lxml import etree as ET\n",
    "import pprint\n",
    "\n",
    "from source.xliff import create_tree\n",
    "from source.subs import PreprocSub\n",
    "from source.entries import SearchMTEntry, SearchSourceEntry, ToggleCaseEntry"
   ]
  },
  {
   "cell_type": "code",
   "execution_count": 7,
   "metadata": {},
   "outputs": [
    {
     "name": "stdout",
     "output_type": "stream",
     "text": [
      "('<trans-unit xmlns=\"urn:oasis:names:tc:xliff:document:1.2\" xmlns:sdl=\"http://sdl.com/FileTypes/SdlXliff/1.0\" '\n",
      " 'id=\"aa63d552-6a04-4b9f-9477-5edb233f4ea4\">\\n'\n",
      " '  <source>WIR FREUEN UNS auf Ihren Besuch.</source>\\n'\n",
      " '  <seg-source>\\n'\n",
      " '    <mrk mtype=\"seg\" mid=\"11\">WIR FREUEN UNS auf Ihren Besuch.</mrk>\\n'\n",
      " '  </seg-source>\\n'\n",
      " '  <target>\\n'\n",
      " '    <mrk mtype=\"seg\" mid=\"11\">We look forward to your visit.</mrk>\\n'\n",
      " '  </target>\\n'\n",
      " '  <sdl:seg-defs>\\n'\n",
      " '    <sdl:seg id=\"11\" conf=\"Draft\" origin=\"mt\" origin-system=\"DeepL Translator provider using DeepL Translator \">\\n'\n",
      " '      <sdl:value key=\"SegmentIdentityHash\">btLWNvEALVWgAnolRNWT8q5F5k0=</sdl:value>\\n'\n",
      " '    </sdl:seg>\\n'\n",
      " '  </sdl:seg-defs>\\n'\n",
      " '</trans-unit>\\n')\n"
     ]
    }
   ],
   "source": [
    "def print_sample(fp, tu_id):\n",
    "    tree, tus = create_tree(fp)\n",
    "    sample = ET.tostring(tus[tu_id], encoding='utf-8', pretty_print=True).decode('utf-8')\n",
    "    pp = pprint.PrettyPrinter(indent=4, width=120)\n",
    "    pp.pprint(sample)\n",
    "    \n",
    "filename = \"Wochekarte der Bäckerei Staib im Höhenblick.txt.sdlxliff\"\n",
    "directory = \"data\"\n",
    "fp = os.path.join(directory, filename)\n",
    "tu_id = 10\n",
    "\n",
    "print_sample(fp, tu_id)"
   ]
  },
  {
   "cell_type": "code",
   "execution_count": 8,
   "metadata": {},
   "outputs": [
    {
     "name": "stdout",
     "output_type": "stream",
     "text": [
      "Backup containing 1 files created here: data\n",
      "('<trans-unit xmlns=\"urn:oasis:names:tc:xliff:document:1.2\" xmlns:sdl=\"http://sdl.com/FileTypes/SdlXliff/1.0\" '\n",
      " 'id=\"aa63d552-6a04-4b9f-9477-5edb233f4ea4\">\\n'\n",
      " '  <source>WIR FREUEN UNS auf Ihren Besuch.</source>\\n'\n",
      " '  <seg-source>\\n'\n",
      " '    <mrk mtype=\"seg\" mid=\"11\">WIR FREUEN UNS auf Ihren Besuch.</mrk>\\n'\n",
      " '  </seg-source>\\n'\n",
      " '  <target>\\n'\n",
      " '    <mrk mtype=\"seg\" mid=\"11\">WE LOOK FOrward to your visit.</mrk>\\n'\n",
      " '  </target>\\n'\n",
      " '  <sdl:seg-defs>\\n'\n",
      " '    <sdl:seg id=\"11\" conf=\"Draft\" origin=\"mt\" origin-system=\"DeepL Translator provider using DeepL Translator \">\\n'\n",
      " '      <sdl:value key=\"SegmentIdentityHash\">btLWNvEALVWgAnolRNWT8q5F5k0=</sdl:value>\\n'\n",
      " '    </sdl:seg>\\n'\n",
      " '  </sdl:seg-defs>\\n'\n",
      " '</trans-unit>\\n')\n"
     ]
    }
   ],
   "source": [
    "a = ToggleCaseEntry(999, \"ASE\", None, \"Testing\", \"All\", \"ES\", 10, 'upper', None)\n",
    "subs_list = list([a])\n",
    "subs = PreprocSub(created_by=\"ASE\", desc=\"Testing\", entries=subs_list)\n",
    "\n",
    "\n",
    "subs.apply_to_working_files(directory, write=True)\n",
    "\n",
    "print_sample(fp, tu_id)"
   ]
  },
  {
   "cell_type": "code",
   "execution_count": null,
   "metadata": {},
   "outputs": [],
   "source": []
  }
 ],
 "metadata": {
  "kernelspec": {
   "display_name": "Python 3",
   "language": "python",
   "name": "python3"
  },
  "language_info": {
   "codemirror_mode": {
    "name": "ipython",
    "version": 3
   },
   "file_extension": ".py",
   "mimetype": "text/x-python",
   "name": "python",
   "nbconvert_exporter": "python",
   "pygments_lexer": "ipython3",
   "version": "3.7.3"
  }
 },
 "nbformat": 4,
 "nbformat_minor": 2
}
